{
 "cells": [
  {
   "cell_type": "markdown",
   "id": "5c848502",
   "metadata": {},
   "source": [
    "This script converts a single excel file in a specified directory to a set of CSV files (one file per excel sheet), with convention fileName_sheetName.csv"
   ]
  },
  {
   "cell_type": "code",
   "execution_count": 10,
   "id": "638ae057",
   "metadata": {},
   "outputs": [],
   "source": [
    "import openpyxl, csv\n",
    "from pathlib import Path"
   ]
  },
  {
   "cell_type": "code",
   "execution_count": 13,
   "id": "0d3271c3",
   "metadata": {},
   "outputs": [],
   "source": [
    "# Configurations\n",
    "filename = 'owid-covid-data.xlsx'\n",
    "path = Path('../matplotlib/')"
   ]
  },
  {
   "cell_type": "code",
   "execution_count": 12,
   "id": "3a767c45",
   "metadata": {},
   "outputs": [
    {
     "name": "stdout",
     "output_type": "stream",
     "text": [
      "Number of rows processed: 0\n",
      "Number of rows processed: 5000\n",
      "Number of rows processed: 10000\n",
      "Number of rows processed: 15000\n",
      "Number of rows processed: 20000\n",
      "Number of rows processed: 25000\n",
      "Number of rows processed: 30000\n",
      "Number of rows processed: 35000\n",
      "Number of rows processed: 40000\n",
      "Number of rows processed: 45000\n",
      "Number of rows processed: 50000\n",
      "Number of rows processed: 55000\n",
      "Number of rows processed: 60000\n",
      "Number of rows processed: 65000\n",
      "Number of rows processed: 70000\n",
      "Number of rows processed: 75000\n",
      "Number of rows processed: 80000\n",
      "Number of rows processed: 85000\n",
      "Number of rows processed: 90000\n",
      "Number of rows processed: 95000\n",
      "Number of rows processed: 100000\n",
      "Number of rows processed: 105000\n",
      "Number of rows processed: 110000\n",
      "Number of rows processed: 115000\n",
      "Number of rows processed: 120000\n",
      "Number of rows processed: 125000\n",
      "Number of rows processed: 130000\n"
     ]
    }
   ],
   "source": [
    "wb = openpyxl.load_workbook(path/filename)\n",
    "\n",
    "for sheet in wb.sheetnames:\n",
    "\n",
    "    csvFile = open(path/Path(filename[:-5]+\"_\"+str(sheet)+\".csv\"), \"w\")\n",
    "    csvWriter = csv.writer(csvFile)\n",
    "    sh = wb[sheet]\n",
    "\n",
    "    for index, row in enumerate(sh.rows):\n",
    "        lst=[]\n",
    "        for cell in row:\n",
    "            if cell.value != None: lst.append(cell.value)\n",
    "\n",
    "        if index%5000==0: print(f'Number of rows processed: {index}')\n",
    "                \n",
    "        csvWriter.writerow(lst)\n",
    "    csvFile.close()\n",
    "wb.save(path/filename)"
   ]
  },
  {
   "cell_type": "code",
   "execution_count": null,
   "id": "8cef2d3d",
   "metadata": {},
   "outputs": [],
   "source": []
  }
 ],
 "metadata": {
  "kernelspec": {
   "display_name": "Python 3 (ipykernel)",
   "language": "python",
   "name": "python3"
  },
  "language_info": {
   "codemirror_mode": {
    "name": "ipython",
    "version": 3
   },
   "file_extension": ".py",
   "mimetype": "text/x-python",
   "name": "python",
   "nbconvert_exporter": "python",
   "pygments_lexer": "ipython3",
   "version": "3.9.7"
  }
 },
 "nbformat": 4,
 "nbformat_minor": 5
}
