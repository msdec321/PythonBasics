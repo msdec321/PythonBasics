{
 "cells": [
  {
   "cell_type": "markdown",
   "id": "194f999c",
   "metadata": {},
   "source": [
    "This web scraping workbook uses the Beautiful Soup package and follows a video tutorial authored by Aakash N S.  \n",
    "The video can be found at: https://www.youtube.com/watch?v=RKsLLG-bzEY"
   ]
  },
  {
   "cell_type": "code",
   "execution_count": 1,
   "id": "fe3a3eb2",
   "metadata": {},
   "outputs": [],
   "source": [
    "import requests\n",
    "from bs4 import BeautifulSoup\n",
    "import pandas as pd"
   ]
  },
  {
   "cell_type": "code",
   "execution_count": 59,
   "id": "e198baac",
   "metadata": {},
   "outputs": [],
   "source": [
    "def get_topic_info(url, name):\n",
    "    response = requests.get(url)\n",
    "    response.status_code  # 200-299 = successful\n",
    "\n",
    "    page_contents = str(response.text)\n",
    "    doc = BeautifulSoup(page_contents, 'html.parser')\n",
    "    \n",
    "    topics = doc.find_all('h3', {'class':'f3 color-fg-muted text-normal lh-condensed'})\n",
    "    \n",
    "    topics_dict = {\n",
    "    'username' : [],\n",
    "    'repo' : [],\n",
    "    'stars' : [],\n",
    "    'url' : []\n",
    "    }\n",
    "    \n",
    "    for i, item in enumerate(topics):\n",
    "        temp_topics = topics[i].find_all('a')\n",
    "        temp_stars = doc.find_all('span', {'class':'Counter js-social-count'})\n",
    "\n",
    "        topics_dict['username'].append(temp_topics[0].text.strip())\n",
    "        topics_dict['repo'].append(temp_topics[1].text.strip())\n",
    "        topics_dict['stars'].append(int(temp_stars[i]['title'].replace(',', '')))\n",
    "        topics_dict['url'].append('https://github.com' + temp_topics[1]['href'])\n",
    "                \n",
    "    # Output to csv\n",
    "    df = pd.DataFrame(topics_dict)\n",
    "    df.to_csv(f'csvs/{name}_info.csv', index=False)"
   ]
  },
  {
   "cell_type": "code",
   "execution_count": 61,
   "id": "700ef219",
   "metadata": {},
   "outputs": [],
   "source": [
    "def scrape_topic_repos():\n",
    "    github_url = 'https://github.com/topics/'\n",
    "    \n",
    "    response = requests.get(github_url)\n",
    "    response.status_code  # 200-299 = successful\n",
    "    \n",
    "    page_contents = response.text\n",
    "    doc = BeautifulSoup(page_contents, 'html.parser')  # Initialize a beautiful soup object\n",
    "    \n",
    "    # Get topics from webpage\n",
    "    topic_title_tags = doc.find_all('p', {'class', 'f3 lh-condensed mb-0 mt-1 Link--primary'})\n",
    "    topic_link_tags = doc.find_all('a', {'class': 'no-underline flex-1 d-flex flex-column'})\n",
    "    \n",
    "    for i, item in enumerate(topic_title_tags):\n",
    "        \n",
    "        topic_name = str(topic_title_tags[i].text.split()[0])\n",
    "        topic_url = 'https://github.com' + str(topic_link_tags[i]['href'])\n",
    "        print(topic_name, topic_url)\n",
    "        \n",
    "        get_topic_info(topic_url, topic_name)"
   ]
  },
  {
   "cell_type": "code",
   "execution_count": 62,
   "id": "162067c8",
   "metadata": {},
   "outputs": [
    {
     "name": "stdout",
     "output_type": "stream",
     "text": [
      "3D https://github.com/topics/3d\n",
      "Ajax https://github.com/topics/ajax\n",
      "Algorithm https://github.com/topics/algorithm\n",
      "Amp https://github.com/topics/amphp\n",
      "Android https://github.com/topics/android\n",
      "Angular https://github.com/topics/angular\n",
      "Ansible https://github.com/topics/ansible\n",
      "API https://github.com/topics/api\n",
      "Arduino https://github.com/topics/arduino\n",
      "ASP.NET https://github.com/topics/aspnet\n",
      "Atom https://github.com/topics/atom\n",
      "Awesome https://github.com/topics/awesome\n",
      "Amazon https://github.com/topics/aws\n",
      "Azure https://github.com/topics/azure\n",
      "Babel https://github.com/topics/babel\n",
      "Bash https://github.com/topics/bash\n",
      "Bitcoin https://github.com/topics/bitcoin\n",
      "Bootstrap https://github.com/topics/bootstrap\n",
      "Bot https://github.com/topics/bot\n",
      "C https://github.com/topics/c\n",
      "Chrome https://github.com/topics/chrome\n",
      "Chrome https://github.com/topics/chrome-extension\n",
      "Command https://github.com/topics/cli\n",
      "Clojure https://github.com/topics/clojure\n",
      "Code https://github.com/topics/code-quality\n",
      "Code https://github.com/topics/code-review\n",
      "Compiler https://github.com/topics/compiler\n",
      "Continuous https://github.com/topics/continuous-integration\n",
      "COVID-19 https://github.com/topics/covid-19\n",
      "C++ https://github.com/topics/cpp\n"
     ]
    }
   ],
   "source": [
    "scrape_topic_repos()"
   ]
  },
  {
   "cell_type": "code",
   "execution_count": null,
   "id": "0bd1b8d7",
   "metadata": {},
   "outputs": [],
   "source": []
  }
 ],
 "metadata": {
  "kernelspec": {
   "display_name": "Python 3 (ipykernel)",
   "language": "python",
   "name": "python3"
  },
  "language_info": {
   "codemirror_mode": {
    "name": "ipython",
    "version": 3
   },
   "file_extension": ".py",
   "mimetype": "text/x-python",
   "name": "python",
   "nbconvert_exporter": "python",
   "pygments_lexer": "ipython3",
   "version": "3.9.7"
  }
 },
 "nbformat": 4,
 "nbformat_minor": 5
}
