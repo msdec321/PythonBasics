{
 "cells": [
  {
   "cell_type": "markdown",
   "id": "0b1c2417",
   "metadata": {},
   "source": [
    "pptx is a python module for creating Powerpoint presentations\n",
    "\n",
    "Documentation can be found at: https://python-pptx.readthedocs.io/en/latest/index.html"
   ]
  },
  {
   "cell_type": "code",
   "execution_count": 366,
   "id": "62afebda",
   "metadata": {},
   "outputs": [],
   "source": [
    "# Import the pptx module\n",
    "from pptx import Presentation\n",
    "from pptx.util import Inches  # Module for adjusting the slide size (standard vs widescreen), alternatively there is Cm\n",
    "from pptx.enum.shapes import MSO_SHAPE\n",
    "from pptx.dml.color import RGBColor\n",
    "from pptx.util import Pt\n",
    "from pptx.enum.text import PP_ALIGN\n",
    "from datetime import date"
   ]
  },
  {
   "cell_type": "code",
   "execution_count": 367,
   "id": "d0a1d88b",
   "metadata": {},
   "outputs": [],
   "source": [
    "# Initialize a presentation object (Note: close all open instances of powerpoint)\n",
    "prs = Presentation()\n",
    "\n",
    "# Set slide dimensions to widescreen\n",
    "prs.slide_width = Inches(16)\n",
    "prs.slide_height = Inches(9)\n",
    "\n",
    "# Other configs\n",
    "slide_numbers = True"
   ]
  },
  {
   "cell_type": "code",
   "execution_count": 368,
   "id": "d36a4e7d",
   "metadata": {},
   "outputs": [],
   "source": [
    "# Useful functions\n",
    "\n",
    "def slide_title(l, t, w, h, text, textFont, textSize):  # Text for title slide\n",
    "    left = Inches(l)\n",
    "    top = Inches(t)\n",
    "    width = Inches(w)\n",
    "    height = Inches(h)\n",
    "    \n",
    "    text_box = slide.shapes.add_textbox(left, top, width, height)\n",
    "    tb = text_box.text_frame\n",
    "    tb.word_wrap = True\n",
    "    \n",
    "    p = tb.paragraphs[0]\n",
    "    p.alignment = PP_ALIGN.CENTER\n",
    "    run = p.add_run()\n",
    "    run.text = text\n",
    "    \n",
    "    font = run.font\n",
    "    font.name = textFont\n",
    "    font.size = Pt(textSize)\n",
    "    \n",
    "    return None"
   ]
  },
  {
   "cell_type": "code",
   "execution_count": 369,
   "id": "3f01e914",
   "metadata": {},
   "outputs": [],
   "source": [
    "# Create a basic title slide\n",
    "\n",
    "blank_slide_layout = prs.slide_layouts[6]\n",
    "slide = prs.slides.add_slide(blank_slide_layout)\n",
    "\n",
    "slide_title(2.3, 2.45, 11, 3, 'This is an example title for my example title slide', 'Arial', 60)  # Title\n",
    "slide_title(3.5, 5, 8.4, 3, 'Matthew Decaro, Rice University', 'Arial', 30)  # Subtitle (name)\n",
    "slide_title(3.5, 7.3, 8.4, 3, date.today().strftime('%m/%d/%Y'), 'Arial', 30) # Date"
   ]
  },
  {
   "cell_type": "code",
   "execution_count": 370,
   "id": "d4cf70f9",
   "metadata": {},
   "outputs": [],
   "source": [
    "# Create a basic image slide with a caption\n",
    "\n",
    "blank_slide_layout = prs.slide_layouts[6]\n",
    "slide = prs.slides.add_slide(blank_slide_layout)\n",
    "\n",
    "path = r\"C:\\Users\\Matth\\git\\DataAnalysisWorkbooks\\Covid19\\Figures\\newCases_Africa.png\"\n",
    "\n",
    "left = Inches(0.1)\n",
    "top = Inches(1.2)\n",
    "img = slide.shapes.add_picture(path, left, top, Inches(15.4))\n",
    "\n",
    "slide_title(2.3, 0.6, 11, 3, 'Daily Covid-19 cases in Africa', 'Arial', 35)  # Title\n",
    "slide_title(1.6, 6.6, 13, 5, \n",
    "            \"\"\"Caption: This is a caption for my image. This is a caption for my image. This is a caption for my image. This is a caption for my image.\n",
    "            \"\"\", 'Arial', 25)  # Title"
   ]
  },
  {
   "cell_type": "code",
   "execution_count": 371,
   "id": "2a21fea4",
   "metadata": {},
   "outputs": [],
   "source": [
    "# Add slide numbers to footers\n",
    "\n",
    "if slide_numbers:\n",
    "    slides = prs.slides\n",
    "\n",
    "    # Hand-picked positions based on choice of slide size (widescreen) and fontsize (27)\n",
    "    left = Inches(15.1)\n",
    "    top = Inches(8.1)\n",
    "    width = Inches(1)\n",
    "    height = Inches(1)\n",
    "\n",
    "    for slide in slides:\n",
    "        if slides.index(slide) == 0: continue  # Skip labelling the title slide number as '0'\n",
    "\n",
    "        # Initialize the text box. Set the text, font, and fontsize\n",
    "        text_box = slide.shapes.add_textbox(left, top, width, height)\n",
    "        tb = text_box.text_frame\n",
    "        \n",
    "        p = tb.paragraphs[0]\n",
    "        run = p.add_run()\n",
    "        run.text = str(slides.index(slide))\n",
    "        \n",
    "        font = run.font\n",
    "        font.name = 'Arial'\n",
    "        font.size = Pt(27)\n",
    "        \n",
    "        #TODO: Add a toggle for other slide number positions (bottom left, bottom center, etc.)"
   ]
  },
  {
   "cell_type": "code",
   "execution_count": 373,
   "id": "a2190d3c",
   "metadata": {},
   "outputs": [],
   "source": [
    "prs.save(\"tutorial_slides.pptx\")  # Save the file"
   ]
  },
  {
   "cell_type": "code",
   "execution_count": null,
   "id": "27ff7c5a",
   "metadata": {},
   "outputs": [],
   "source": []
  }
 ],
 "metadata": {
  "kernelspec": {
   "display_name": "Python 3 (ipykernel)",
   "language": "python",
   "name": "python3"
  },
  "language_info": {
   "codemirror_mode": {
    "name": "ipython",
    "version": 3
   },
   "file_extension": ".py",
   "mimetype": "text/x-python",
   "name": "python",
   "nbconvert_exporter": "python",
   "pygments_lexer": "ipython3",
   "version": "3.9.7"
  }
 },
 "nbformat": 4,
 "nbformat_minor": 5
}
