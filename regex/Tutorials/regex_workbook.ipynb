{
 "cells": [
  {
   "cell_type": "markdown",
   "id": "9be821c0",
   "metadata": {},
   "source": [
    "A regular expression (regex) is a sequence of characters that specifies a search pattern in text."
   ]
  },
  {
   "cell_type": "markdown",
   "id": "e2424f2a",
   "metadata": {},
   "source": [
    "## Import packages"
   ]
  },
  {
   "cell_type": "code",
   "execution_count": 2,
   "id": "d962393f",
   "metadata": {},
   "outputs": [],
   "source": [
    "#All regex functions are incorporated into the \"re\" module.\n",
    "import re"
   ]
  },
  {
   "cell_type": "code",
   "execution_count": null,
   "id": "2dcaf578",
   "metadata": {},
   "outputs": [],
   "source": []
  },
  {
   "cell_type": "markdown",
   "id": "4c43b564",
   "metadata": {},
   "source": [
    "## Tutorial"
   ]
  },
  {
   "cell_type": "code",
   "execution_count": 4,
   "id": "e846fc40",
   "metadata": {},
   "outputs": [],
   "source": [
    "# Initialize a regex object\n",
    "phoneNumRegex = re.compile(r'\\d\\d\\d-\\d\\d\\d-\\d\\d\\d\\d')  # \\d is short for digit (0-9)"
   ]
  },
  {
   "cell_type": "code",
   "execution_count": 5,
   "id": "70e33fd2",
   "metadata": {},
   "outputs": [
    {
     "name": "stdout",
     "output_type": "stream",
     "text": [
      "Phone number found: 408-659-5969\n"
     ]
    }
   ],
   "source": [
    "# The search() method searches the regex object for a string it is passed (returns None if not found).\n",
    "mo = phoneNumRegex.search('My phone number is 408-659-5969.')  # mo is short for 'match object'\n",
    "print('Phone number found: ' + mo.group())"
   ]
  },
  {
   "cell_type": "code",
   "execution_count": null,
   "id": "f768ac8e",
   "metadata": {},
   "outputs": [],
   "source": []
  },
  {
   "cell_type": "markdown",
   "id": "7b8dffec",
   "metadata": {},
   "source": [
    "## Brackets [ ]"
   ]
  },
  {
   "cell_type": "code",
   "execution_count": 22,
   "id": "0d0eeef4",
   "metadata": {},
   "outputs": [],
   "source": [
    "# By putting characters in brackets [], a string can be searched to match any of the characters in the brackets. \n",
    "# (Case sentisitve.)"
   ]
  },
  {
   "cell_type": "code",
   "execution_count": 23,
   "id": "3092c3eb",
   "metadata": {},
   "outputs": [
    {
     "name": "stdout",
     "output_type": "stream",
     "text": [
      "Matched object found: A\n"
     ]
    }
   ],
   "source": [
    "bracketRegex = re.compile(r'[aA]')\n",
    "mo = bracketRegex.search('This is A sentence.')\n",
    "print('Matched object found: ' + mo.group())"
   ]
  },
  {
   "cell_type": "code",
   "execution_count": 24,
   "id": "90b3158b",
   "metadata": {},
   "outputs": [
    {
     "ename": "AttributeError",
     "evalue": "'NoneType' object has no attribute 'group'",
     "output_type": "error",
     "traceback": [
      "\u001b[1;31m---------------------------------------------------------------------------\u001b[0m",
      "\u001b[1;31mAttributeError\u001b[0m                            Traceback (most recent call last)",
      "Input \u001b[1;32mIn [24]\u001b[0m, in \u001b[0;36m<cell line: 3>\u001b[1;34m()\u001b[0m\n\u001b[0;32m      1\u001b[0m nonBracketRegex \u001b[38;5;241m=\u001b[39m re\u001b[38;5;241m.\u001b[39mcompile(\u001b[38;5;124mr\u001b[39m\u001b[38;5;124m'\u001b[39m\u001b[38;5;124maA\u001b[39m\u001b[38;5;124m'\u001b[39m)\n\u001b[0;32m      2\u001b[0m mo \u001b[38;5;241m=\u001b[39m nonBracketRegex\u001b[38;5;241m.\u001b[39msearch(\u001b[38;5;124m'\u001b[39m\u001b[38;5;124mThis is a sentence.\u001b[39m\u001b[38;5;124m'\u001b[39m)\n\u001b[1;32m----> 3\u001b[0m \u001b[38;5;28mprint\u001b[39m(\u001b[38;5;124m'\u001b[39m\u001b[38;5;124mMatched object found: \u001b[39m\u001b[38;5;124m'\u001b[39m \u001b[38;5;241m+\u001b[39m \u001b[43mmo\u001b[49m\u001b[38;5;241;43m.\u001b[39;49m\u001b[43mgroup\u001b[49m())\n",
      "\u001b[1;31mAttributeError\u001b[0m: 'NoneType' object has no attribute 'group'"
     ]
    }
   ],
   "source": [
    "nonBracketRegex = re.compile(r'aA')\n",
    "mo = nonBracketRegex.search('This is a sentence.')\n",
    "print('Matched object found: ' + mo.group())"
   ]
  },
  {
   "cell_type": "code",
   "execution_count": 26,
   "id": "9532d461",
   "metadata": {},
   "outputs": [
    {
     "name": "stdout",
     "output_type": "stream",
     "text": [
      "Matched object found: matthew\n"
     ]
    }
   ],
   "source": [
    "# Here the regex will search for matthew OR Matthew\n",
    "fullWordBracket = re.compile(r'[mM]atthew')\n",
    "mo = fullWordBracket.search('My name is matthew.')\n",
    "print('Matched object found: ' + mo.group())"
   ]
  },
  {
   "cell_type": "code",
   "execution_count": null,
   "id": "856186a4",
   "metadata": {},
   "outputs": [],
   "source": []
  },
  {
   "cell_type": "markdown",
   "id": "36cb7c58",
   "metadata": {},
   "source": [
    "## Dashes (-) - Range of characters"
   ]
  },
  {
   "cell_type": "code",
   "execution_count": 31,
   "id": "c8fe58c9",
   "metadata": {},
   "outputs": [
    {
     "name": "stdout",
     "output_type": "stream",
     "text": [
      "Matched object found: 5\n",
      "Matched object found: f\n",
      "Matched object found: T\n"
     ]
    }
   ],
   "source": [
    "# A range of characters/digits can be specified by using a dash (-)\n",
    "dashRegex = re.compile(r'[0-9]')\n",
    "mo = dashRegex.search('This is a number: 5.')\n",
    "print('Matched object found: ' + mo.group())\n",
    "\n",
    "dashRegex = re.compile(r'[a-z]')\n",
    "mo = dashRegex.search('THIS IS A CHARACTER: f.')\n",
    "print('Matched object found: ' + mo.group())\n",
    "\n",
    "dashRegex = re.compile(r'[aA-zZ]')\n",
    "mo = dashRegex.search('This is a character: f.')\n",
    "print('Matched object found: ' + mo.group())"
   ]
  },
  {
   "cell_type": "code",
   "execution_count": null,
   "id": "d223eca5",
   "metadata": {},
   "outputs": [],
   "source": []
  },
  {
   "cell_type": "markdown",
   "id": "0bcd4961",
   "metadata": {},
   "source": [
    "## Carats (^) - Exclusions"
   ]
  },
  {
   "cell_type": "code",
   "execution_count": 37,
   "id": "d6134f29",
   "metadata": {},
   "outputs": [
    {
     "name": "stdout",
     "output_type": "stream",
     "text": [
      "Matched object found: h\n"
     ]
    }
   ],
   "source": [
    "# Excluding characters is done by using the carat (^). Note that the carat must be at the front.\n",
    "caratRegex = re.compile(r'[^A-Z]')\n",
    "mo = caratRegex.search('This is a number: 5.')\n",
    "print('Matched object found: ' + mo.group())"
   ]
  },
  {
   "cell_type": "code",
   "execution_count": null,
   "id": "285e8353",
   "metadata": {},
   "outputs": [],
   "source": []
  },
  {
   "cell_type": "markdown",
   "id": "91e880ac",
   "metadata": {},
   "source": [
    "## ( ? ) - Optional characters (One or none)"
   ]
  },
  {
   "cell_type": "code",
   "execution_count": 43,
   "id": "3ca63f8a",
   "metadata": {},
   "outputs": [
    {
     "name": "stdout",
     "output_type": "stream",
     "text": [
      "Matched object found: color\n"
     ]
    }
   ],
   "source": [
    "# To optionally include a character, a (?) must follow it.\n",
    "optionalRegex = re.compile(r'colou?r')\n",
    "mo = optionalRegex.search('This is how to spell color.')\n",
    "print('Matched object found: ' + mo.group())"
   ]
  },
  {
   "cell_type": "code",
   "execution_count": null,
   "id": "00b747c3",
   "metadata": {},
   "outputs": [],
   "source": []
  },
  {
   "cell_type": "markdown",
   "id": "b0f56df7",
   "metadata": {},
   "source": [
    "## ( * ) - Optional characters (One or more)"
   ]
  },
  {
   "cell_type": "code",
   "execution_count": 51,
   "id": "210f7539",
   "metadata": {},
   "outputs": [
    {
     "name": "stdout",
     "output_type": "stream",
     "text": [
      "Matched object found: Baaaa\n",
      "Matched object found: \n",
      "Matched object found: 4086595969\n"
     ]
    }
   ],
   "source": [
    "# To optionally allow repeating characters, a (*) must follow it.\n",
    "repeatingRegex = re.compile(r'Ba*')\n",
    "mo = repeatingRegex.search('A sheep says: Baaaa!')\n",
    "print('Matched object found: ' + mo.group())\n",
    "\n",
    "# This will match aaaaaa or ababab or bbbbbb (fix this)\n",
    "repeatingRegex = re.compile(r'[ab]*')\n",
    "mo = repeatingRegex.search('A sheep says: ababab')\n",
    "print('Matched object found: ' + mo.group())\n",
    "\n",
    "# Repeating digits\n",
    "repeatingDigitsRegex = re.compile(r'[0-9][0-9]*')\n",
    "mo = repeatingDigitsRegex.search('My phone number is: 4086595969')\n",
    "print('Matched object found: ' + mo.group())"
   ]
  },
  {
   "cell_type": "code",
   "execution_count": null,
   "id": "45216acb",
   "metadata": {},
   "outputs": [],
   "source": []
  },
  {
   "cell_type": "markdown",
   "id": "51b1fe87",
   "metadata": {},
   "source": [
    "## (+) - Optional characters (One or more)"
   ]
  },
  {
   "cell_type": "code",
   "execution_count": 54,
   "id": "3a473f34",
   "metadata": {},
   "outputs": [
    {
     "name": "stdout",
     "output_type": "stream",
     "text": [
      "Matched object found: 4086595969\n"
     ]
    }
   ],
   "source": [
    "# Alternatively, use the (+)\n",
    "repeatingDigitsRegex = re.compile(r'[0-9]+')\n",
    "mo = repeatingDigitsRegex.search('My phone number is: 4086595969')\n",
    "print('Matched object found: ' + mo.group())"
   ]
  },
  {
   "cell_type": "markdown",
   "id": "68c315eb",
   "metadata": {},
   "source": [
    "Note: oo*h = o+h  matches oh, ooh, oooh..."
   ]
  },
  {
   "cell_type": "code",
   "execution_count": null,
   "id": "d0e49fae",
   "metadata": {},
   "outputs": [],
   "source": []
  },
  {
   "cell_type": "markdown",
   "id": "8ad0f641",
   "metadata": {},
   "source": [
    "## ( . ) - Wildcards "
   ]
  },
  {
   "cell_type": "code",
   "execution_count": 55,
   "id": "38351bb3",
   "metadata": {},
   "outputs": [
    {
     "name": "stdout",
     "output_type": "stream",
     "text": [
      "Matched object found: matthew\n"
     ]
    }
   ],
   "source": [
    "# To use a period normally, a backslash must proceed it. (\\.)\n",
    "wildcardRegex = re.compile(r'.atthew')\n",
    "mo = wildcardRegex.search('My name is matthew.')\n",
    "print('Matched object found: ' + mo.group())"
   ]
  },
  {
   "cell_type": "code",
   "execution_count": null,
   "id": "77380495",
   "metadata": {},
   "outputs": [],
   "source": []
  },
  {
   "cell_type": "markdown",
   "id": "fe66de08",
   "metadata": {},
   "source": [
    "## Anchors and boundaries"
   ]
  },
  {
   "cell_type": "code",
   "execution_count": 4,
   "id": "cf6e368a",
   "metadata": {
    "scrolled": true
   },
   "outputs": [
    {
     "name": "stdout",
     "output_type": "stream",
     "text": [
      "Matched object found: My\n",
      "Matched object found: matthew.\n",
      "Matched object found: the\n"
     ]
    }
   ],
   "source": [
    "# Anchors check for matching text at the start(^) or end($) of a string.\n",
    "anchorRegex = re.compile(r'^My')\n",
    "mo = anchorRegex.search('My name is matthew.')\n",
    "print('Matched object found: ' + mo.group())\n",
    "\n",
    "anchorRegex = re.compile(r'matthew\\.$')\n",
    "mo = anchorRegex.search('My name is matthew.')\n",
    "print('Matched object found: ' + mo.group())\n",
    "\n",
    "# The \\b (\\B) characters set set boundaries. (Note: \\b won't treat numbers and underscores as boundaries.)\n",
    "boundaryRegex = re.compile(r'\\bthe\\b')\n",
    "mo = boundaryRegex.search('the other one.')\n",
    "print('Matched object found: ' + mo.group())"
   ]
  },
  {
   "cell_type": "code",
   "execution_count": null,
   "id": "00520b7a",
   "metadata": {},
   "outputs": [],
   "source": []
  },
  {
   "cell_type": "markdown",
   "id": "674bbbeb",
   "metadata": {},
   "source": [
    "## ( | ) - Disjunction  (OR)"
   ]
  },
  {
   "cell_type": "code",
   "execution_count": 2,
   "id": "0bc33ce6",
   "metadata": {},
   "outputs": [
    {
     "name": "stdout",
     "output_type": "stream",
     "text": [
      "Matched object found: cat\n"
     ]
    }
   ],
   "source": [
    "# The pipe operator (OR) checks for either phrase.\n",
    "pipeRegex = re.compile(r'cat|dog')\n",
    "mo = pipeRegex.search('I own a cat and a dog.')\n",
    "print('Matched object found: ' + mo.group())"
   ]
  },
  {
   "cell_type": "markdown",
   "id": "0a37d9be",
   "metadata": {},
   "source": [
    "Note that a | b | c = [abc]"
   ]
  },
  {
   "cell_type": "code",
   "execution_count": null,
   "id": "c2751d97",
   "metadata": {},
   "outputs": [],
   "source": []
  },
  {
   "cell_type": "markdown",
   "id": "246a03c3",
   "metadata": {},
   "source": [
    "## ( ) - Disjunction / Precendence  (AND)"
   ]
  },
  {
   "cell_type": "code",
   "execution_count": 3,
   "id": "17b6df3b",
   "metadata": {},
   "outputs": [
    {
     "name": "stdout",
     "output_type": "stream",
     "text": [
      "Matched object found: guppies\n"
     ]
    }
   ],
   "source": [
    "andRegex = re.compile(r'gupp(y|ies)')\n",
    "mo = andRegex.search('Baby fish are called guppies')\n",
    "print('Matched object found: ' + mo.group())"
   ]
  },
  {
   "cell_type": "code",
   "execution_count": null,
   "id": "72a6838c",
   "metadata": {},
   "outputs": [],
   "source": []
  },
  {
   "cell_type": "markdown",
   "id": "6d1dc01d",
   "metadata": {},
   "source": [
    "## Greedy and non-greedy (+?)"
   ]
  },
  {
   "cell_type": "code",
   "execution_count": 13,
   "id": "b93dff14",
   "metadata": {},
   "outputs": [
    {
     "name": "stdout",
     "output_type": "stream",
     "text": [
      "Matched object found: once\n",
      "Matched object found: o\n"
     ]
    }
   ],
   "source": [
    "# By default RE will search for the maximum number of characters (greedy).\n",
    "greedyRegex = re.compile(r'[a-z]*')\n",
    "mo = greedyRegex.search('once upon a time')\n",
    "print('Matched object found: ' + mo.group())\n",
    "\n",
    "# But we can specify the search to be *non-greedy* (+?) to use the smallest number of characters.\n",
    "nongreedyRegex = re.compile(r'[a-z]+?')\n",
    "mo = nongreedyRegex.search('once upon a time')\n",
    "print('Matched object found: ' + mo.group())"
   ]
  },
  {
   "cell_type": "code",
   "execution_count": null,
   "id": "9396b28c",
   "metadata": {},
   "outputs": [],
   "source": []
  },
  {
   "cell_type": "markdown",
   "id": "150cd95a",
   "metadata": {},
   "source": [
    "## { } - Ranges"
   ]
  },
  {
   "cell_type": "code",
   "execution_count": 30,
   "id": "4497a303",
   "metadata": {},
   "outputs": [
    {
     "name": "stdout",
     "output_type": "stream",
     "text": [
      "Matched object found: 999\n"
     ]
    }
   ],
   "source": [
    "# Rather than using the Kleene+ to specify one or more, you can specify ranges of allowed repititions. \n",
    "braceRegex = re.compile(r'[0-9]{1,3}')\n",
    "mo = braceRegex.search('There are 9999 bottles of beer on the wall.')\n",
    "print('Matched object found: ' + mo.group())"
   ]
  },
  {
   "cell_type": "code",
   "execution_count": null,
   "id": "3044c032",
   "metadata": {},
   "outputs": [],
   "source": []
  },
  {
   "cell_type": "markdown",
   "id": "0305e1b7",
   "metadata": {},
   "source": [
    "# Sandbox"
   ]
  },
  {
   "cell_type": "code",
   "execution_count": 25,
   "id": "2f44e7d5",
   "metadata": {},
   "outputs": [
    {
     "name": "stdout",
     "output_type": "stream",
     "text": [
      "Matched object found:  $99.66\n"
     ]
    }
   ],
   "source": [
    "myRegex = re.compile(r'(^|\\W)\\$[0-9]{0,3}(\\.[0-9][0-9])?\\b')\n",
    "mo = myRegex.search('A computer costs $99.66')\n",
    "print('Matched object found: ' + mo.group())"
   ]
  },
  {
   "cell_type": "code",
   "execution_count": null,
   "id": "4e09a643",
   "metadata": {},
   "outputs": [],
   "source": []
  },
  {
   "cell_type": "code",
   "execution_count": null,
   "id": "199c3310",
   "metadata": {},
   "outputs": [],
   "source": []
  },
  {
   "cell_type": "markdown",
   "id": "1917e7c6",
   "metadata": {},
   "source": [
    "## List of regex character classes"
   ]
  },
  {
   "cell_type": "markdown",
   "id": "f231af9d",
   "metadata": {},
   "source": [
    "\\d  - digit  \n",
    "\\s  - whitespace (space, tab, newline)  \n",
    "\\w  - alphanumeric  \n",
    "\\\\(  - escape characters (. ^ $ * + ? { } [ ] \\\\ | ( ) )  \n",
    "(capitalized = non-*)"
   ]
  },
  {
   "cell_type": "code",
   "execution_count": null,
   "id": "9a28ff3c",
   "metadata": {},
   "outputs": [],
   "source": []
  },
  {
   "cell_type": "markdown",
   "id": "0f8690d5",
   "metadata": {},
   "source": [
    "## Other notes"
   ]
  },
  {
   "cell_type": "markdown",
   "id": "db389f5c",
   "metadata": {},
   "source": [
    "Reducing the error rate for an application often involves to antagonistic efforts:  \n",
    "*Increasing accuracy or precision (minimizing false positives)  \n",
    "*Increasing coverage or recall (minimizing false negatives)  "
   ]
  },
  {
   "cell_type": "code",
   "execution_count": null,
   "id": "ba9884c8",
   "metadata": {},
   "outputs": [],
   "source": []
  }
 ],
 "metadata": {
  "kernelspec": {
   "display_name": "Python 3 (ipykernel)",
   "language": "python",
   "name": "python3"
  },
  "language_info": {
   "codemirror_mode": {
    "name": "ipython",
    "version": 3
   },
   "file_extension": ".py",
   "mimetype": "text/x-python",
   "name": "python",
   "nbconvert_exporter": "python",
   "pygments_lexer": "ipython3",
   "version": "3.9.7"
  }
 },
 "nbformat": 4,
 "nbformat_minor": 5
}
