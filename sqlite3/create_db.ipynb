{
 "cells": [
  {
   "cell_type": "code",
   "execution_count": 1,
   "id": "6e6da2bd",
   "metadata": {},
   "outputs": [
    {
     "data": {
      "text/plain": [
       "<module 'Helpers' from 'C:\\\\Users\\\\Matth\\\\git\\\\PythonBasics\\\\sqlite3\\\\Helpers.py'>"
      ]
     },
     "execution_count": 1,
     "metadata": {},
     "output_type": "execute_result"
    }
   ],
   "source": [
    "import sqlite3\n",
    "import Helpers\n",
    "from importlib import reload\n",
    "\n",
    "reload(Helpers)"
   ]
  },
  {
   "cell_type": "code",
   "execution_count": 18,
   "id": "040ec908",
   "metadata": {},
   "outputs": [],
   "source": [
    "# Configurables\n",
    "delete_at_end = True"
   ]
  },
  {
   "cell_type": "code",
   "execution_count": 67,
   "id": "fdffbdc7",
   "metadata": {},
   "outputs": [
    {
     "name": "stdout",
     "output_type": "stream",
     "text": [
      "Connection to SQLite DB successful\n"
     ]
    }
   ],
   "source": [
    "# Initialize connection to db. If the db doesn't exist, it will be created.\n",
    "connection = Helpers.create_connection('new_db.db')"
   ]
  },
  {
   "cell_type": "code",
   "execution_count": 68,
   "id": "6e8cae1f",
   "metadata": {},
   "outputs": [
    {
     "name": "stdout",
     "output_type": "stream",
     "text": [
      "Query executed successfully\n",
      "Query executed successfully\n",
      "Query executed successfully\n",
      "Query executed successfully\n",
      "Query executed successfully\n",
      "Query executed successfully\n",
      "Query executed successfully\n",
      "Query executed successfully\n"
     ]
    }
   ],
   "source": [
    "# Create a table\n",
    "create_users_table = f\"\"\"\n",
    "CREATE TABLE users (\n",
    "  id INTEGER PRIMARY KEY AUTOINCREMENT,\n",
    "  name TEXT,\n",
    "  age INTEGER\n",
    ");\n",
    "\"\"\"\n",
    "\n",
    "create_ids_table = f\"\"\"\n",
    "CREATE TABLE ids (\n",
    "  id INTEGER PRIMARY KEY AUTOINCREMENT,\n",
    "  id_num INTEGER\n",
    ");\n",
    "\"\"\"\n",
    "\n",
    "Helpers.execute_query(connection, create_users_table)  \n",
    "Helpers.execute_query(connection, create_ids_table)  \n",
    "\n",
    "# Insert data into the table\n",
    "insert_element = f\"INSERT INTO users VALUES (1, 'Ashley Decaro', 30);\"\n",
    "Helpers.execute_query(connection, insert_element)  # Execute statements can only be ran one at a time\n",
    "\n",
    "insert_element = f\"INSERT INTO users VALUES (2, 'Matthew Decaro', 28);\"\n",
    "Helpers.execute_query(connection, insert_element)  \n",
    "\n",
    "insert_element = f\"INSERT INTO users VALUES (3, 'Shane Decaro', 26);\"\n",
    "Helpers.execute_query(connection, insert_element)  \n",
    "\n",
    "insert_element = f\"INSERT INTO ids VALUES (1, 30062);\"\n",
    "Helpers.execute_query(connection, insert_element)  \n",
    "\n",
    "insert_element = f\"INSERT INTO ids VALUES (2, 32201);\"\n",
    "Helpers.execute_query(connection, insert_element) \n",
    "\n",
    "insert_element = f\"INSERT INTO ids VALUES (3, 34725);\"\n",
    "Helpers.execute_query(connection, insert_element) "
   ]
  },
  {
   "cell_type": "code",
   "execution_count": 55,
   "id": "00479a16",
   "metadata": {},
   "outputs": [
    {
     "name": "stdout",
     "output_type": "stream",
     "text": [
      "(1, 'Ashley Decaro', 30)\n",
      "(2, 'Matthew Decaro', 28)\n",
      "(3, 'Shane Decaro', 26)\n"
     ]
    }
   ],
   "source": [
    "# Display contents of table\n",
    "# Specify column(s): replace * with <col1>, <col2>..\n",
    "# Temporarily change col name with <col1> as <new_col1>\n",
    "\n",
    "display_table = f\"\"\"\n",
    "SELECT * FROM users;\n",
    "\"\"\"\n",
    "\n",
    "table = Helpers.execute_read_query(connection, display_table)  \n",
    "\n",
    "for line in table:\n",
    "    print(line)"
   ]
  },
  {
   "cell_type": "code",
   "execution_count": 27,
   "id": "c7b813a1",
   "metadata": {},
   "outputs": [
    {
     "name": "stdout",
     "output_type": "stream",
     "text": [
      "('Ashley Decaro',)\n",
      "('Matthew Decaro',)\n"
     ]
    }
   ],
   "source": [
    "# Apply selections to a query using WHERE\n",
    "\n",
    "display_table = f\"\"\"\n",
    "SELECT name FROM {table} where age > 26;\n",
    "\"\"\"\n",
    "# Alternatives: where name = 'Ashley'\n",
    "# Note: Wildcards are %, so all Ashley's with any last name: name LIKE 'Ashley%'\n",
    "# Instead of where X > Y and X < Z, use where X between Y and Z.\n",
    "# To display missing data, use where <col1> is null\n",
    "#    (Or non-missing data, use is not null)\n",
    "\n",
    "table = Helpers.execute_read_query(connection, display_table)  \n",
    "\n",
    "for line in table:\n",
    "    print(line)"
   ]
  },
  {
   "cell_type": "code",
   "execution_count": 32,
   "id": "288b76c4",
   "metadata": {},
   "outputs": [
    {
     "name": "stdout",
     "output_type": "stream",
     "text": [
      "(3, 'Shane Decaro', 26)\n",
      "(2, 'Matthew Decaro', 28)\n",
      "(1, 'Ashley Decaro', 30)\n"
     ]
    }
   ],
   "source": [
    "# Sorting\n",
    "\n",
    "# Typically by default, data is sorted by the Primary Key, this can be changed using ORDER BY\n",
    "\n",
    "display_table = f\"\"\"\n",
    "SELECT * FROM {table} order by age;\n",
    "\"\"\"\n",
    "\n",
    "# To print in descending order, add \"desc\" after the column name.\n",
    "\n",
    "table = Helpers.execute_read_query(connection, display_table)  \n",
    "\n",
    "for line in table:\n",
    "    print(line)"
   ]
  },
  {
   "cell_type": "code",
   "execution_count": 64,
   "id": "80c3fb21",
   "metadata": {},
   "outputs": [
    {
     "name": "stdout",
     "output_type": "stream",
     "text": [
      "('Ashley Decaro', 30, 30062)\n",
      "('Matthew Decaro', 28, 32201)\n",
      "('Shane Decaro', 26, 34725)\n"
     ]
    }
   ],
   "source": [
    "# Joining\n",
    "\n",
    "# To query data from multiple tables into one dataframe, use JOIN\n",
    "\n",
    "display_table = f\"\"\"\n",
    "SELECT \n",
    "    users.name, \n",
    "    users.age, \n",
    "    ids.id_num \n",
    "FROM \n",
    "    users \n",
    "    INNER JOIN ids ON users.id = ids.id;\n",
    "\"\"\"\n",
    "\n",
    "# Note the syntax: from TABLE1 inner join TABLE2 on TABLE1.KEY1 = TABLE2.KEY2\n",
    "\n",
    "table = Helpers.execute_read_query(connection, display_table)  \n",
    "\n",
    "for line in table:\n",
    "    print(line)"
   ]
  },
  {
   "cell_type": "code",
   "execution_count": 69,
   "id": "c7757b66",
   "metadata": {},
   "outputs": [
    {
     "name": "stdout",
     "output_type": "stream",
     "text": [
      "('Ashley Decaro', 30, 30062)\n",
      "('Matthew Decaro', 28, 32201)\n",
      "('Shane Decaro', 26, 34725)\n"
     ]
    }
   ],
   "source": [
    "# Using aliases to simplify table names (rename users = a, ids = b)\n",
    "\n",
    "display_table = f\"\"\"\n",
    "SELECT \n",
    "    a.name, \n",
    "    a.age, \n",
    "    b.id_num \n",
    "FROM \n",
    "    users a\n",
    "    INNER JOIN ids b ON a.id = b.id;\n",
    "\"\"\"\n",
    "\n",
    "# Note the syntax: from TABLE1 inner join TABLE2 on TABLE1.KEY1 = TABLE2.KEY2\n",
    "\n",
    "table = Helpers.execute_read_query(connection, display_table)  \n",
    "\n",
    "for line in table:\n",
    "    print(line)"
   ]
  },
  {
   "cell_type": "code",
   "execution_count": 66,
   "id": "fb3f3319",
   "metadata": {},
   "outputs": [
    {
     "ename": "FileNotFoundError",
     "evalue": "[WinError 2] The system cannot find the file specified: 'new_db.db'",
     "output_type": "error",
     "traceback": [
      "\u001b[1;31m---------------------------------------------------------------------------\u001b[0m",
      "\u001b[1;31mFileNotFoundError\u001b[0m                         Traceback (most recent call last)",
      "\u001b[1;32m~\\AppData\\Local\\Temp/ipykernel_2036/642258301.py\u001b[0m in \u001b[0;36m<module>\u001b[1;34m\u001b[0m\n\u001b[0;32m      5\u001b[0m \u001b[1;32mif\u001b[0m \u001b[0mdelete_at_end\u001b[0m\u001b[1;33m:\u001b[0m\u001b[1;33m\u001b[0m\u001b[1;33m\u001b[0m\u001b[0m\n\u001b[0;32m      6\u001b[0m     \u001b[1;32mimport\u001b[0m \u001b[0mos\u001b[0m\u001b[1;33m\u001b[0m\u001b[1;33m\u001b[0m\u001b[0m\n\u001b[1;32m----> 7\u001b[1;33m     \u001b[0mos\u001b[0m\u001b[1;33m.\u001b[0m\u001b[0mremove\u001b[0m\u001b[1;33m(\u001b[0m\u001b[1;34m'new_db.db'\u001b[0m\u001b[1;33m)\u001b[0m\u001b[1;33m\u001b[0m\u001b[1;33m\u001b[0m\u001b[0m\n\u001b[0m",
      "\u001b[1;31mFileNotFoundError\u001b[0m: [WinError 2] The system cannot find the file specified: 'new_db.db'"
     ]
    }
   ],
   "source": [
    "# Close the connection\n",
    "connection.close()\n",
    "\n",
    "# Optinally, delete the example database\n",
    "if delete_at_end: \n",
    "    import os\n",
    "    os.remove('new_db.db')"
   ]
  },
  {
   "cell_type": "code",
   "execution_count": null,
   "id": "f8158321",
   "metadata": {},
   "outputs": [],
   "source": []
  }
 ],
 "metadata": {
  "kernelspec": {
   "display_name": "Python 3 (ipykernel)",
   "language": "python",
   "name": "python3"
  },
  "language_info": {
   "codemirror_mode": {
    "name": "ipython",
    "version": 3
   },
   "file_extension": ".py",
   "mimetype": "text/x-python",
   "name": "python",
   "nbconvert_exporter": "python",
   "pygments_lexer": "ipython3",
   "version": "3.9.7"
  }
 },
 "nbformat": 4,
 "nbformat_minor": 5
}
