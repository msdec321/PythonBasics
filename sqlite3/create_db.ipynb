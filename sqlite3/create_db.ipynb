{
 "cells": [
  {
   "cell_type": "code",
   "execution_count": 31,
   "id": "6e6da2bd",
   "metadata": {},
   "outputs": [],
   "source": [
    "import sqlite3\n",
    "import Helpers"
   ]
  },
  {
   "cell_type": "code",
   "execution_count": 32,
   "id": "040ec908",
   "metadata": {},
   "outputs": [],
   "source": [
    "# Configurables\n",
    "table = \"users\"\n",
    "delete_at_end = True"
   ]
  },
  {
   "cell_type": "code",
   "execution_count": 34,
   "id": "fdffbdc7",
   "metadata": {},
   "outputs": [
    {
     "name": "stdout",
     "output_type": "stream",
     "text": [
      "Connection to SQLite DB successful\n"
     ]
    }
   ],
   "source": [
    "# Initialize connection to db. If the db doesn't exist, it will be created.\n",
    "connection = Helpers.create_connection('new_db.db')"
   ]
  },
  {
   "cell_type": "code",
   "execution_count": 27,
   "id": "6e8cae1f",
   "metadata": {},
   "outputs": [
    {
     "name": "stdout",
     "output_type": "stream",
     "text": [
      "Query executed successfully\n",
      "Query executed successfully\n",
      "Query executed successfully\n",
      "Query executed successfully\n"
     ]
    }
   ],
   "source": [
    "# Create a table\n",
    "create_users_table = f\"\"\"\n",
    "CREATE TABLE {table} (\n",
    "  id INTEGER PRIMARY KEY AUTOINCREMENT,\n",
    "  name TEXT\n",
    ");\n",
    "\"\"\"\n",
    "\n",
    "Helpers.execute_query(connection, create_users_table)  \n",
    "\n",
    "# Insert data into the table\n",
    "insert_element = f\"INSERT INTO {table} VALUES (1, 'Ashley');\"\n",
    "Helpers.execute_query(connection, insert_element)  # Execute statements can only be ran one at a time\n",
    "\n",
    "insert_element = f\"INSERT INTO {table} VALUES (2, 'Matthew');\"\n",
    "Helpers.execute_query(connection, insert_element)  \n",
    "\n",
    "insert_element = f\"INSERT INTO {table} VALUES (3, 'Shane');\"\n",
    "Helpers.execute_query(connection, insert_element)  "
   ]
  },
  {
   "cell_type": "code",
   "execution_count": 28,
   "id": "00479a16",
   "metadata": {},
   "outputs": [
    {
     "data": {
      "text/plain": [
       "[(1, 'Ashley'), (2, 'Matthew'), (3, 'Shane')]"
      ]
     },
     "execution_count": 28,
     "metadata": {},
     "output_type": "execute_result"
    }
   ],
   "source": [
    "# Display contents of table\n",
    "\n",
    "display_table = f\"\"\"\n",
    "SELECT * FROM {table};\n",
    "\"\"\"\n",
    "\n",
    "Helpers.execute_read_query(connection, display_table)  "
   ]
  },
  {
   "cell_type": "code",
   "execution_count": 35,
   "id": "fb3f3319",
   "metadata": {},
   "outputs": [],
   "source": [
    "# Close the connection\n",
    "connection.close()\n",
    "\n",
    "# Optinally, delete the example database\n",
    "if delete_at_end: \n",
    "    import os\n",
    "    os.remove('new_db.db')"
   ]
  },
  {
   "cell_type": "code",
   "execution_count": null,
   "id": "b3bd2b7b",
   "metadata": {},
   "outputs": [],
   "source": []
  }
 ],
 "metadata": {
  "kernelspec": {
   "display_name": "Python 3 (ipykernel)",
   "language": "python",
   "name": "python3"
  },
  "language_info": {
   "codemirror_mode": {
    "name": "ipython",
    "version": 3
   },
   "file_extension": ".py",
   "mimetype": "text/x-python",
   "name": "python",
   "nbconvert_exporter": "python",
   "pygments_lexer": "ipython3",
   "version": "3.9.7"
  }
 },
 "nbformat": 4,
 "nbformat_minor": 5
}
