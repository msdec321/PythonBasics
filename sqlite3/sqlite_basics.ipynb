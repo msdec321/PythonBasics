{
 "cells": [
  {
   "cell_type": "code",
   "execution_count": 2,
   "id": "6e6da2bd",
   "metadata": {},
   "outputs": [
    {
     "data": {
      "text/plain": [
       "<module 'Helpers' from 'C:\\\\Users\\\\Matth\\\\git\\\\PythonBasics\\\\sqlite3\\\\Helpers.py'>"
      ]
     },
     "execution_count": 2,
     "metadata": {},
     "output_type": "execute_result"
    }
   ],
   "source": [
    "import sqlite3\n",
    "import Helpers\n",
    "from importlib import reload\n",
    "\n",
    "reload(Helpers)"
   ]
  },
  {
   "cell_type": "code",
   "execution_count": 3,
   "id": "040ec908",
   "metadata": {},
   "outputs": [],
   "source": [
    "# Configurables\n",
    "delete_at_end = True"
   ]
  },
  {
   "cell_type": "code",
   "execution_count": 15,
   "id": "fdffbdc7",
   "metadata": {},
   "outputs": [
    {
     "name": "stdout",
     "output_type": "stream",
     "text": [
      "Connection to SQLite DB successful\n"
     ]
    }
   ],
   "source": [
    "# Initialize connection to db. If the db doesn't exist, it will be created.\n",
    "connection = Helpers.create_connection('new_db.db')"
   ]
  },
  {
   "cell_type": "code",
   "execution_count": 16,
   "id": "6e8cae1f",
   "metadata": {},
   "outputs": [
    {
     "name": "stdout",
     "output_type": "stream",
     "text": [
      "Query executed successfully\n",
      "Query executed successfully\n",
      "Query executed successfully\n",
      "Query executed successfully\n",
      "Query executed successfully\n",
      "Query executed successfully\n",
      "Query executed successfully\n",
      "Query executed successfully\n"
     ]
    }
   ],
   "source": [
    "# Create a table\n",
    "create_users_table = f\"\"\"\n",
    "CREATE TABLE users (\n",
    "  id INTEGER PRIMARY KEY AUTOINCREMENT,\n",
    "  name TEXT,\n",
    "  age INTEGER\n",
    ");\n",
    "\"\"\"\n",
    "\n",
    "create_ids_table = f\"\"\"\n",
    "CREATE TABLE ids (\n",
    "  id INTEGER PRIMARY KEY AUTOINCREMENT,\n",
    "  id_num INTEGER\n",
    ");\n",
    "\"\"\"\n",
    "\n",
    "Helpers.execute_query(connection, create_users_table)  \n",
    "Helpers.execute_query(connection, create_ids_table)  \n",
    "\n",
    "# Insert data into the table\n",
    "insert_element = f\"INSERT INTO users VALUES (1, 'Ashley Decaro', 30);\"\n",
    "Helpers.execute_query(connection, insert_element)  # Execute statements can only be ran one at a time\n",
    "\n",
    "insert_element = f\"INSERT INTO users VALUES (2, 'Shane Decaro', 26);\"\n",
    "Helpers.execute_query(connection, insert_element)  \n",
    "\n",
    "insert_element = f\"INSERT INTO users VALUES (3, 'Matthew Decaro', 28);\"\n",
    "Helpers.execute_query(connection, insert_element)  \n",
    "\n",
    "insert_element = f\"INSERT INTO ids VALUES (1, 30062);\"\n",
    "Helpers.execute_query(connection, insert_element)  \n",
    "\n",
    "insert_element = f\"INSERT INTO ids VALUES (2, 32201);\"\n",
    "Helpers.execute_query(connection, insert_element) \n",
    "\n",
    "insert_element = f\"INSERT INTO ids VALUES (3, 34725);\"\n",
    "Helpers.execute_query(connection, insert_element) "
   ]
  },
  {
   "cell_type": "code",
   "execution_count": 55,
   "id": "00479a16",
   "metadata": {},
   "outputs": [
    {
     "name": "stdout",
     "output_type": "stream",
     "text": [
      "(1, 'Ashley Decaro', 30)\n",
      "(2, 'Matthew Decaro', 28)\n",
      "(3, 'Shane Decaro', 26)\n"
     ]
    }
   ],
   "source": [
    "# Display contents of table\n",
    "# Specify column(s): replace * with <col1>, <col2>..\n",
    "# Temporarily change col name with <col1> as <new_col1>\n",
    "\n",
    "display_table = f\"\"\"\n",
    "SELECT * FROM users;\n",
    "\"\"\"\n",
    "\n",
    "table = Helpers.execute_read_query(connection, display_table)  \n",
    "\n",
    "for line in table:\n",
    "    print(line)"
   ]
  },
  {
   "cell_type": "code",
   "execution_count": 27,
   "id": "c7b813a1",
   "metadata": {},
   "outputs": [
    {
     "name": "stdout",
     "output_type": "stream",
     "text": [
      "('Ashley Decaro',)\n",
      "('Matthew Decaro',)\n"
     ]
    }
   ],
   "source": [
    "# Apply selections to a query using WHERE\n",
    "\n",
    "display_table = f\"\"\"\n",
    "SELECT name FROM {table} where age > 26;\n",
    "\"\"\"\n",
    "# Alternatives: where name = 'Ashley'\n",
    "# Note: Wildcards are %, so all Ashley's with any last name: name LIKE 'Ashley%'\n",
    "# Instead of where X > Y and X < Z, use where X between Y and Z.\n",
    "# To display missing data, use where <col1> is null\n",
    "#    (Or non-missing data, use is not null)\n",
    "\n",
    "table = Helpers.execute_read_query(connection, display_table)  \n",
    "\n",
    "for line in table:\n",
    "    print(line)"
   ]
  },
  {
   "cell_type": "code",
   "execution_count": 32,
   "id": "288b76c4",
   "metadata": {},
   "outputs": [
    {
     "name": "stdout",
     "output_type": "stream",
     "text": [
      "(3, 'Shane Decaro', 26)\n",
      "(2, 'Matthew Decaro', 28)\n",
      "(1, 'Ashley Decaro', 30)\n"
     ]
    }
   ],
   "source": [
    "# Sorting\n",
    "\n",
    "# Typically by default, data is sorted by the Primary Key, this can be changed using ORDER BY\n",
    "\n",
    "display_table = f\"\"\"\n",
    "SELECT * FROM {table} order by age;\n",
    "\"\"\"\n",
    "\n",
    "# To print in descending order, add \"desc\" after the column name.\n",
    "\n",
    "table = Helpers.execute_read_query(connection, display_table)  \n",
    "\n",
    "for line in table:\n",
    "    print(line)"
   ]
  },
  {
   "cell_type": "code",
   "execution_count": 64,
   "id": "80c3fb21",
   "metadata": {},
   "outputs": [
    {
     "name": "stdout",
     "output_type": "stream",
     "text": [
      "('Ashley Decaro', 30, 30062)\n",
      "('Matthew Decaro', 28, 32201)\n",
      "('Shane Decaro', 26, 34725)\n"
     ]
    }
   ],
   "source": [
    "# Joining\n",
    "\n",
    "# To query data from multiple tables into one dataframe, use JOIN\n",
    "\n",
    "display_table = f\"\"\"\n",
    "SELECT \n",
    "    users.name, \n",
    "    users.age, \n",
    "    ids.id_num \n",
    "FROM \n",
    "    users \n",
    "    INNER JOIN ids ON users.id = ids.id;\n",
    "\"\"\"\n",
    "\n",
    "# Note the syntax: from TABLE1 inner join TABLE2 on TABLE1.KEY1 = TABLE2.KEY2\n",
    "\n",
    "table = Helpers.execute_read_query(connection, display_table)  \n",
    "\n",
    "for line in table:\n",
    "    print(line)"
   ]
  },
  {
   "cell_type": "code",
   "execution_count": 5,
   "id": "c7757b66",
   "metadata": {},
   "outputs": [
    {
     "name": "stdout",
     "output_type": "stream",
     "text": [
      "('Ashley Decaro', 30, 30062)\n",
      "('Matthew Decaro', 28, 32201)\n",
      "('Shane Decaro', 26, 34725)\n"
     ]
    }
   ],
   "source": [
    "# Using aliases to simplify table names (rename users = a, ids = b)\n",
    "\n",
    "display_table = f\"\"\"\n",
    "SELECT \n",
    "    a.name, \n",
    "    a.age, \n",
    "    b.id_num \n",
    "FROM \n",
    "    users a\n",
    "    INNER JOIN ids b ON a.id = b.id;\n",
    "\"\"\"\n",
    "\n",
    "# Note the syntax: from TABLE1 inner join TABLE2 on TABLE1.KEY1 = TABLE2.KEY2\n",
    "\n",
    "table = Helpers.execute_read_query(connection, display_table)  \n",
    "\n",
    "for line in table:\n",
    "    print(line)"
   ]
  },
  {
   "cell_type": "code",
   "execution_count": 19,
   "id": "065551e9",
   "metadata": {},
   "outputs": [
    {
     "name": "stdout",
     "output_type": "stream",
     "text": [
      "('Matthew Decaro', 34725, 28)\n"
     ]
    }
   ],
   "source": [
    "# Summing, averaging etc using GROUP BY. Here, use \"having\" for selection, rather than \"where\" (cannot be applied to text)\n",
    "\n",
    "display_table = f\"\"\"\n",
    "SELECT \n",
    "    a.name, \n",
    "    b.id_num,\n",
    "    sum(a.age) as age\n",
    "FROM \n",
    "    users a\n",
    "    INNER JOIN ids b ON a.id = b.id\n",
    "    GROUP BY a.name, \n",
    "    b.id_num having b.id_num > 34000\n",
    "    ORDER BY age desc\n",
    "    ;\n",
    "\"\"\"\n",
    "\n",
    "# Note the syntax: from TABLE1 inner join TABLE2 on TABLE1.KEY1 = TABLE2.KEY2\n",
    "\n",
    "table = Helpers.execute_read_query(connection, display_table)  \n",
    "\n",
    "for line in table:\n",
    "    print(line)"
   ]
  },
  {
   "cell_type": "code",
   "execution_count": 14,
   "id": "fb3f3319",
   "metadata": {},
   "outputs": [],
   "source": [
    "# Close the connection\n",
    "connection.close()\n",
    "\n",
    "# Optinally, delete the example database\n",
    "if delete_at_end: \n",
    "    import os\n",
    "    os.remove('new_db.db')"
   ]
  },
  {
   "cell_type": "code",
   "execution_count": null,
   "id": "f8158321",
   "metadata": {},
   "outputs": [],
   "source": []
  }
 ],
 "metadata": {
  "kernelspec": {
   "display_name": "Python 3 (ipykernel)",
   "language": "python",
   "name": "python3"
  },
  "language_info": {
   "codemirror_mode": {
    "name": "ipython",
    "version": 3
   },
   "file_extension": ".py",
   "mimetype": "text/x-python",
   "name": "python",
   "nbconvert_exporter": "python",
   "pygments_lexer": "ipython3",
   "version": "3.9.7"
  }
 },
 "nbformat": 4,
 "nbformat_minor": 5
}
